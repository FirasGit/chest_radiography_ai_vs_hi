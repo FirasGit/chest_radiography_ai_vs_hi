{
 "cells": [
  {
   "cell_type": "code",
   "execution_count": null,
   "metadata": {},
   "outputs": [],
   "source": [
    "import os\n",
    "import SimpleITK as sitk\n",
    "from tqdm import tqdm\n",
    "import skimage\n",
    "from skimage.transform import resize\n",
    "import matplotlib.pyplot as plt\n",
    "import numpy as np"
   ]
  },
  {
   "cell_type": "code",
   "execution_count": null,
   "metadata": {},
   "outputs": [],
   "source": [
    "target_shape = (512, 512)"
   ]
  },
  {
   "cell_type": "code",
   "execution_count": null,
   "metadata": {},
   "outputs": [],
   "source": [
    "path_to_data_dir = '/data/chest_radiograph/nifti_files'\n",
    "path_to_resized_data_dir = '/data/chest_radiograph/resized_nifti_files'"
   ]
  },
  {
   "cell_type": "code",
   "execution_count": null,
   "metadata": {},
   "outputs": [],
   "source": [
    "img_list = os.listdir(path_to_data_dir)"
   ]
  },
  {
   "cell_type": "code",
   "execution_count": null,
   "metadata": {},
   "outputs": [],
   "source": [
    "def pad_image_to_target_shape(img, small_edge_idx, pad_size):\n",
    "    pad_width = ((pad_size//2 + pad_size % 2, pad_size//2), (0, 0)) if small_edge_idx == 0 else ((0, 0), (pad_size//2  + pad_size % 2, pad_size//2))\n",
    "    padded_img = np.pad(img, pad_width=pad_width, mode='constant', constant_values=0)\n",
    "    return padded_img"
   ]
  },
  {
   "cell_type": "code",
   "execution_count": null,
   "metadata": {},
   "outputs": [],
   "source": [
    "def reshape(np_img):\n",
    "    target_shape = [512, 512]\n",
    "    org_shape = np_img.shape\n",
    "    small_edge_idx = np.argmin(org_shape) # Only change the small dimension\n",
    "    large_edge_idx = np.argmax(org_shape)\n",
    "    reduction_factor = target_shape[large_edge_idx]/org_shape[large_edge_idx]\n",
    "    _target_shape_before_padding = target_shape.copy()\n",
    "    _target_shape_before_padding[small_edge_idx] = round( reduction_factor * org_shape[small_edge_idx])\n",
    "    _resized_np_img = resize(np_img, _target_shape_before_padding, mode='constant', cval=0)\n",
    "    pad_size = target_shape[small_edge_idx] - _resized_np_img.shape[small_edge_idx]\n",
    "    resized_np_img = pad_image_to_target_shape(_resized_np_img, small_edge_idx, pad_size)\n",
    "    return resized_np_img"
   ]
  },
  {
   "cell_type": "code",
   "execution_count": null,
   "metadata": {},
   "outputs": [],
   "source": [
    "def save_img_as_sitk_to_path(np_img, org_sitk_img, path):\n",
    "    new_sitk_img = sitk.GetImageFromArray(np_img)\n",
    "    new_sitk_img.SetSpacing(org_sitk_img.GetSpacing())\n",
    "    for key in org_sitk_img.GetMetaDataKeys():\n",
    "        if not new_sitk_img.HasMetaDataKey(key):\n",
    "            new_sitk_img.SetMetaData(key, org_sitk_img.GetMetaData(key))\n",
    "    sitk.WriteImage(new_sitk_img, path)\n",
    "\n"
   ]
  },
  {
   "cell_type": "code",
   "execution_count": null,
   "metadata": {},
   "outputs": [],
   "source": [
    "img_dimensions = []\n",
    "for img in tqdm(img_list):\n",
    "    try:\n",
    "        img_path = os.path.join(path_to_data_dir, img)\n",
    "        save_path = os.path.join(path_to_resized_data_dir, img)\n",
    "        sitk_img = sitk.ReadImage(img_path)\n",
    "        np_img = sitk.GetArrayFromImage(sitk_img)\n",
    "        resized_np_img = reshape(np_img)\n",
    "        assert resized_np_img.shape == target_shape\n",
    "        save_img_as_sitk_to_path(resized_np_img, sitk_img,  save_path)\n",
    "    except:\n",
    "        print(\"Something wrong occured with image: \", img)"
   ]
  },
  {
   "cell_type": "code",
   "execution_count": null,
   "metadata": {},
   "outputs": [],
   "source": []
  }
 ],
 "metadata": {
  "kernelspec": {
   "display_name": "Python 3",
   "language": "python",
   "name": "python3"
  },
  "language_info": {
   "codemirror_mode": {
    "name": "ipython",
    "version": 3
   },
   "file_extension": ".py",
   "mimetype": "text/x-python",
   "name": "python",
   "nbconvert_exporter": "python",
   "pygments_lexer": "ipython3",
   "version": "3.8.5"
  }
 },
 "nbformat": 4,
 "nbformat_minor": 4
}
