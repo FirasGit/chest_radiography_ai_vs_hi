{
 "cells": [
  {
   "cell_type": "code",
   "execution_count": null,
   "metadata": {},
   "outputs": [],
   "source": [
    "import pandas as pd\n",
    "import numpy as np\n",
    "import seaborn as sns\n",
    "sns.set_style('darkgrid')\n",
    "palette =['#647AA3', '#89909F', '#348AA7', '#4d6d9a', '#99ced3', '#edb5bf']\n",
    "import matplotlib.pyplot as plt"
   ]
  },
  {
   "cell_type": "code",
   "execution_count": null,
   "metadata": {},
   "outputs": [],
   "source": [
    "train = pd.read_csv('~/Desktop/work/chest_radiography/data/train.csv')\n",
    "valid = pd.read_csv('~/Desktop/work/chest_radiography/data/valid.csv')\n",
    "test = pd.read_csv('~/Desktop/work/chest_radiography/data/test.csv')"
   ]
  },
  {
   "cell_type": "code",
   "execution_count": null,
   "metadata": {},
   "outputs": [],
   "source": [
    "df = pd.concat([train, valid, test])"
   ]
  },
  {
   "cell_type": "markdown",
   "metadata": {},
   "source": [
    "## Patient Sex"
   ]
  },
  {
   "cell_type": "code",
   "execution_count": null,
   "metadata": {},
   "outputs": [],
   "source": [
    "df['PatientSex'][df['PatientSex']!='U'].value_counts().plot(kind='bar', color=palette)\n",
    "plt.title('Patient Gender per Examination')\n",
    "plt.xlabel('Gender')\n",
    "plt.ylabel('Count')\n",
    "#plt.gcf().set_dpi(300)\n",
    "plt.show()"
   ]
  },
  {
   "cell_type": "code",
   "execution_count": null,
   "metadata": {},
   "outputs": [],
   "source": [
    "df_no_duplicate_patient = df.drop_duplicates(subset='PatientName', keep=\"last\")\n",
    "df_no_duplicate_patient['PatientSex'][df_no_duplicate_patient['PatientSex']!='U'].value_counts().plot(kind='bar', color=palette)\n",
    "plt.title('Patient Gender')\n",
    "plt.xlabel('Gender')\n",
    "plt.ylabel('Count')\n",
    "#plt.gcf().set_dpi(300)\n",
    "plt.show()"
   ]
  },
  {
   "cell_type": "code",
   "execution_count": null,
   "metadata": {},
   "outputs": [],
   "source": [
    "df_no_duplicate_patient['PatientSex'][df_no_duplicate_patient['PatientSex']!='U'].value_counts()"
   ]
  },
  {
   "cell_type": "code",
   "execution_count": null,
   "metadata": {},
   "outputs": [],
   "source": [
    "27577/(17437+27577)"
   ]
  },
  {
   "cell_type": "markdown",
   "metadata": {},
   "source": [
    "## Number of Patients"
   ]
  },
  {
   "cell_type": "code",
   "execution_count": null,
   "metadata": {},
   "outputs": [],
   "source": [
    "len(df['PatientName'].unique())"
   ]
  },
  {
   "cell_type": "markdown",
   "metadata": {},
   "source": [
    "## Patient Age"
   ]
  },
  {
   "cell_type": "code",
   "execution_count": null,
   "metadata": {},
   "outputs": [],
   "source": [
    "(pd.to_datetime(df['Untersuchungsdatum']).dt.year - pd.to_datetime(df['Geburtsdatum']).dt.year).plot.hist(bins=30, color=palette[2])\n",
    "plt.title('Patient Age')\n",
    "plt.xlabel('Age')\n",
    "plt.ylabel('Count')\n",
    "#plt.gcf().set_dpi(300)\n",
    "plt.show()"
   ]
  },
  {
   "cell_type": "code",
   "execution_count": null,
   "metadata": {},
   "outputs": [],
   "source": [
    "print(\"Mean Age\")\n",
    "print((pd.to_datetime(df['Untersuchungsdatum']).dt.year - pd.to_datetime(df['Geburtsdatum']).dt.year).mean())\n",
    "print(\"Std Age\")\n",
    "print((pd.to_datetime(df['Untersuchungsdatum']).dt.year - pd.to_datetime(df['Geburtsdatum']).dt.year).std())"
   ]
  },
  {
   "cell_type": "code",
   "execution_count": null,
   "metadata": {},
   "outputs": [],
   "source": [
    "# NO Dupilcate patients\n",
    "(pd.to_datetime(df_no_duplicate_patient['Untersuchungsdatum']).dt.year - pd.to_datetime(df_no_duplicate_patient['Geburtsdatum']).dt.year).plot.hist(bins=30, color=palette[2])\n",
    "plt.title('Patient Age')\n",
    "plt.xlabel('Age')\n",
    "plt.ylabel('Count')\n",
    "#plt.gcf().set_dpi(300)\n",
    "plt.show()"
   ]
  },
  {
   "cell_type": "code",
   "execution_count": null,
   "metadata": {},
   "outputs": [],
   "source": [
    "# NO Duplicate Patient\n",
    "print(\"Mean Age\")\n",
    "print((pd.to_datetime(df_no_duplicate_patient['Untersuchungsdatum']).dt.year - pd.to_datetime(df_no_duplicate_patient['Geburtsdatum']).dt.year).mean())\n",
    "print(\"Std Age\")\n",
    "print((pd.to_datetime(df_no_duplicate_patient['Untersuchungsdatum']).dt.year - pd.to_datetime(df_no_duplicate_patient['Geburtsdatum']).dt.year).std())"
   ]
  },
  {
   "cell_type": "markdown",
   "metadata": {},
   "source": [
    "## Examination Date"
   ]
  },
  {
   "cell_type": "code",
   "execution_count": null,
   "metadata": {},
   "outputs": [],
   "source": [
    "pd.to_datetime(df['Untersuchungsdatum']).dt.year.plot.hist(bins=11, color=palette[2])\n",
    "plt.title('Examination Date')\n",
    "plt.xlabel('Year')\n",
    "plt.ylabel('Count')"
   ]
  },
  {
   "cell_type": "markdown",
   "metadata": {},
   "source": [
    "## Analyze all Datasplits separately"
   ]
  },
  {
   "cell_type": "code",
   "execution_count": null,
   "metadata": {},
   "outputs": [],
   "source": [
    "for split_name, data_split in zip([\"train\", \"valid\", \"test\", \"all\"], [train, valid, test, df]):\n",
    "    print(\"---------------------------------\")\n",
    "    data_split_no_duplicate_patient = data_split.drop_duplicates(subset='PatientName', keep=\"last\")\n",
    "    #Age\n",
    "    print(split_name)\n",
    "    print(\"Length:\", len(data_split))\n",
    "    age_column_in_years = (pd.to_datetime(data_split_no_duplicate_patient['Untersuchungsdatum']).dt.year - pd.to_datetime(data_split_no_duplicate_patient['Geburtsdatum']).dt.year)\n",
    "    print(\"Mean Age:\", age_column_in_years.mean())\n",
    "    print(\"Std Age:\", age_column_in_years.std())\n",
    "    print(\"Min Age:\", age_column_in_years.min())\n",
    "    print(\"Max Age:\", age_column_in_years.max())\n",
    "    #Gender\n",
    "    patient_value_counts = data_split_no_duplicate_patient['PatientSex'][data_split_no_duplicate_patient['PatientSex']!='U'].value_counts()\n",
    "    print(patient_value_counts)\n",
    "    print(\"Male Ratio: \", patient_value_counts['M'] / (patient_value_counts['M'] + patient_value_counts['F']))\n",
    "    print(\"Female Ratio: \", patient_value_counts['F'] / (patient_value_counts['M'] + patient_value_counts['F']))\n",
    "    # Patients\n",
    "    print(\"Unique Patients: \", len(data_split_no_duplicate_patient))"
   ]
  },
  {
   "cell_type": "markdown",
   "metadata": {},
   "source": [
    "# How many physicians annotated"
   ]
  },
  {
   "cell_type": "code",
   "execution_count": null,
   "metadata": {},
   "outputs": [],
   "source": [
    "df_physician = pd.read_excel('~/Desktop/work/chest_radiography/data/csv_with_physician_names/st_Befundtext_THIN_Schulze-Hagen_dok.xlsx', skiprows=8)"
   ]
  },
  {
   "cell_type": "code",
   "execution_count": null,
   "metadata": {},
   "outputs": [],
   "source": [
    "df_physician_filtered = df_physician.dropna(subset=['Anforderungsnummer'])\n",
    "df_physician_filtered['Anforderungsnummer'] = df_physician_filtered['Anforderungsnummer'].apply(lambda x: str(int(x)) + '01')"
   ]
  },
  {
   "cell_type": "code",
   "execution_count": null,
   "metadata": {},
   "outputs": [],
   "source": [
    "df_physician_filtered_num = df_physician_filtered[df_physician_filtered['Anforderungsnummer'].isin(df['Anforderungsnummer'].apply(lambda x: str(x)))]"
   ]
  },
  {
   "cell_type": "code",
   "execution_count": null,
   "metadata": {},
   "outputs": [],
   "source": [
    "len(df_physician_filtered_num['Befundarzt Name'].unique())"
   ]
  },
  {
   "cell_type": "code",
   "execution_count": null,
   "metadata": {},
   "outputs": [],
   "source": [
    "df_physician_filtered_num"
   ]
  },
  {
   "cell_type": "code",
   "execution_count": null,
   "metadata": {},
   "outputs": [],
   "source": [
    "pd.set_option('display.max_columns', None)\n",
    "pd.set_option('display.max_rows', None)\n",
    "physician_value_counts = df_physician_filtered_num['Befundarzt Name'].value_counts()[df_physician_filtered_num['Befundarzt Name'].value_counts() > 40]"
   ]
  },
  {
   "cell_type": "code",
   "execution_count": null,
   "metadata": {},
   "outputs": [],
   "source": [
    "print(\"Mean: \", physician_value_counts.mean())\n",
    "print(\"Std: \", physician_value_counts.std())\n",
    "print(\"Max: \", physician_value_counts.max())\n",
    "print(\"Min: \", physician_value_counts.min())"
   ]
  },
  {
   "cell_type": "code",
   "execution_count": null,
   "metadata": {},
   "outputs": [],
   "source": [
    "len(physician_value_counts)"
   ]
  },
  {
   "cell_type": "markdown",
   "metadata": {},
   "source": [
    "# Label distribution"
   ]
  },
  {
   "cell_type": "code",
   "execution_count": null,
   "metadata": {},
   "outputs": [],
   "source": [
    "def undummify(df, prefix_sep=\"_\"):\n",
    "    cols2collapse = {\n",
    "        item.rsplit(prefix_sep, 1)[0]: (prefix_sep in item) for item in df.columns\n",
    "    }\n",
    "    series_list = []\n",
    "    for col, needs_to_collapse in cols2collapse.items():\n",
    "        if needs_to_collapse:\n",
    "            undummified = (\n",
    "                df.filter(like=col)\n",
    "                .idxmax(axis=1)\n",
    "                .apply(lambda x: x.rsplit(prefix_sep, maxsplit=1)[1])\n",
    "                .rename(col)\n",
    "            )\n",
    "            series_list.append(undummified)\n",
    "        else:\n",
    "            series_list.append(df[col])\n",
    "    undummified_df = pd.concat(series_list, axis=1)\n",
    "    return undummified_df"
   ]
  },
  {
   "cell_type": "code",
   "execution_count": null,
   "metadata": {},
   "outputs": [],
   "source": [
    "undummified_df = undummify(df)"
   ]
  },
  {
   "cell_type": "code",
   "execution_count": null,
   "metadata": {},
   "outputs": [],
   "source": [
    "# Standard labels\n",
    "for standard_label in ['Stauung', 'Pleuraerguss_re', 'Pleuraerguss_li', 'Infiltrate_re', 'Infiltrate_li', 'Belstörungen_re', 'Belstörungen_li']:\n",
    "    undummified_df[standard_label] = undummified_df[standard_label].replace({'1.0': 'kein', '2.0': '+', '3.0': '++', '4.0': '+++', '5.0': '(+)'})\n",
    "\n",
    "# Herzgröße\n",
    "undummified_df['Herzgröße'] = undummified_df['Herzgröße'].replace({'1.0': 'normal', '2.0': 'grenzwertig', '3.0': 'vergrößert', '4.0': 'massiv vergrößert', '5.0': 'nicht beurteilbar'})\n",
    "\n",
    "# Pneumothorax\n",
    "undummified_df['Pneumothorax_re'] = undummified_df['Pneumothorax_re'].replace({'1.0': 'kein', '2.0': 'spitze', '3.0': 'mantel', '4.0': 'basal', '5.0': 'gering', '6.0': 'erheblich', '7.0': 'spannung'})\n",
    "undummified_df['Pneumothorax_li'] = undummified_df['Pneumothorax_li'].replace({'1.0': 'kein', '2.0': 'spitze', '3.0': 'mantel', '4.0': 'basal', '5.0': 'gering', '6.0': 'erheblich', '7.0': 'spannung'})"
   ]
  },
  {
   "cell_type": "code",
   "execution_count": null,
   "metadata": {},
   "outputs": [],
   "source": [
    "undummified_df.head(5)"
   ]
  },
  {
   "cell_type": "code",
   "execution_count": null,
   "metadata": {},
   "outputs": [],
   "source": [
    "columns_of_interest = ['Cardiomegaly', 'Pleural Effusion (left)', 'Pleural Effusion (right)', 'Pulmonary Infiltrates (left)', 'Pulmonary Infiltrates (right)', \n",
    "                       'Pulmonary Congestion', 'Atelectasis (left)', 'Atelectasis (right)'] \n",
    "\n",
    "undummified_df = undummified_df.rename(columns={'AcquisitionNumber': 'Anforderungsnummer', 'Pleuraerguss_li': 'Erguss_li', 'Pleuraerguss_re': 'Erguss_re', 'Belstörungen_re': 'Bel.-Störungen_re', 'Belstörungen_li': 'Bel.-störungen_li' })\n",
    "\n",
    "# Standard labels\n",
    "for standard_label in ['Stauung', 'Erguss_re', 'Erguss_li', 'Infiltrate_re', 'Infiltrate_li', 'Bel.-Störungen_re', 'Bel.-störungen_li']:\n",
    "    undummified_df[standard_label] = undummified_df[standard_label].replace({'kein': 'none'})\n",
    "\n",
    "# Herzgröße\n",
    "undummified_df['Herzgröße'] = undummified_df['Herzgröße'].replace({'normal': 'none', 'grenzwertig': '(+)', 'vergrößert': '+', 'massiv vergrößert': '++', 'nicht beurteilbar': '+++'})\n",
    "\n",
    "# lowercase the pneumothorax annotations because some are capitalized in the radiologist labels\n",
    "undummified_df['Pneumothorax_re'] = undummified_df['Pneumothorax_re'].str.lower()\n",
    "undummified_df['Pneumothorax_li'] = undummified_df['Pneumothorax_li'].str.lower()\n",
    "\n",
    "# Pneumothorax\n",
    "undummified_df['Pneumothorax_re'] = undummified_df['Pneumothorax_re'].replace({'kein': 'none', 'spitze': 'apex', 'mantel': 'mantle', 'basal': 'basal', 'gering': 'minor', 'erheblich': 'considerable', 'spannung': 'tension'})\n",
    "undummified_df['Pneumothorax_li'] = undummified_df['Pneumothorax_li'].replace({'kein': 'none', 'spitze': 'apex', 'mantel': 'mantle', 'basal': 'basal', 'gering': 'minor', 'erheblich': 'considerable', 'spannung': 'tension'})\n",
    "\n",
    "undummified_df = undummified_df.rename(columns= {'Herzgröße': 'Cardiomegaly', 'Erguss_li': 'Pleural Effusion (left)', 'Erguss_re': 'Pleural Effusion (right)', 'Infiltrate_li': 'Pulmonary Infiltrates (left)', 'Infiltrate_re': 'Pulmonary Infiltrates (right)', \n",
    "                   'Stauung': 'Pulmonary Congestion', 'Bel.-störungen_li': 'Atelectasis (left)', 'Bel.-Störungen_re': 'Atelectasis (right)'})\n"
   ]
  },
  {
   "cell_type": "code",
   "execution_count": null,
   "metadata": {},
   "outputs": [],
   "source": [
    "undummified_df.head()"
   ]
  },
  {
   "cell_type": "code",
   "execution_count": null,
   "metadata": {},
   "outputs": [],
   "source": [
    "for column in columns_of_interest:\n",
    "    print(column)\n",
    "    label_order = ['none', '(+)', '+', '++', '+++']\n",
    "    undummified_df[column].value_counts()[label_order].plot.bar(color=palette[2])\n",
    "    plt.title(column, fontsize=15, fontweight='bold')\n",
    "    plt.ylabel('Count')\n",
    "    plt.xlabel('Label')\n",
    "    plt.gcf().set_dpi(300)\n",
    "    plt.show()"
   ]
  },
  {
   "cell_type": "code",
   "execution_count": null,
   "metadata": {},
   "outputs": [],
   "source": [
    "undummified_df[column].value_counts()"
   ]
  },
  {
   "cell_type": "code",
   "execution_count": null,
   "metadata": {},
   "outputs": [],
   "source": [
    "df['Belstörungen_re_1.0'].value_counts()"
   ]
  },
  {
   "cell_type": "code",
   "execution_count": null,
   "metadata": {},
   "outputs": [],
   "source": []
  }
 ],
 "metadata": {
  "kernelspec": {
   "display_name": "Python 3",
   "language": "python",
   "name": "python3"
  },
  "language_info": {
   "codemirror_mode": {
    "name": "ipython",
    "version": 3
   },
   "file_extension": ".py",
   "mimetype": "text/x-python",
   "name": "python",
   "nbconvert_exporter": "python",
   "pygments_lexer": "ipython3",
   "version": "3.8.5"
  }
 },
 "nbformat": 4,
 "nbformat_minor": 4
}
